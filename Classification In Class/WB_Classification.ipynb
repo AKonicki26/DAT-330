{
 "cells": [
  {
   "cell_type": "code",
   "id": "3b0a692e-a5b0-443f-b931-ba8ae91fc32e",
   "metadata": {
    "ExecuteTime": {
     "end_time": "2024-11-18T17:34:19.894708Z",
     "start_time": "2024-11-18T17:34:19.881754Z"
    }
   },
   "source": [
    "import matplotlib.pyplot as plt\n",
    "import numpy as np\n",
    "import pandas as pd\n",
    "import seaborn as sns\n",
    "from sklearn import datasets\n",
    "from sklearn.model_selection import train_test_split\n",
    "from sklearn.preprocessing import StandardScaler\n",
    "from sklearn.metrics import confusion_matrix\n",
    "from sklearn.neighbors import KNeighborsClassifier\n",
    "from sklearn.metrics import classification_report\n",
    "from sklearn.metrics import precision_score, recall_score, f1_score, accuracy_score\n",
    "from sklearn.naive_bayes import GaussianNB, BernoulliNB\n",
    "from sklearn.svm import SVC\n",
    "import warnings\n",
    "warnings.filterwarnings('ignore')"
   ],
   "outputs": [],
   "execution_count": 280
  },
  {
   "cell_type": "code",
   "id": "9f458fed-d2e9-425d-a8d4-f5390c5ee0b5",
   "metadata": {
    "ExecuteTime": {
     "end_time": "2024-11-18T17:34:19.910665Z",
     "start_time": "2024-11-18T17:34:19.900688Z"
    }
   },
   "source": [
    "# Define a function to plot data points\n",
    "def plot_data_knn(df, new_point, predicted_class=None, k=None):\n",
    "    plt.figure(figsize=(4, 3))\n",
    "    plt.scatter(df.loc[df['class'] == 0, 'x1'], df.loc[df['class'] == 0, 'x2'], color='red', label='Class 0', marker='o')\n",
    "    plt.scatter(df.loc[df['class'] == 1, 'x1'], df.loc[df['class'] == 1, 'x2'], color='blue', label='Class 1', marker='s')\n",
    "    plt.scatter(new_point['x1'], new_point['x2'], color='green', label=f'New Point (Class {predicted_class})' if predicted_class is not None else 'New Point', marker='*', s=200)\n",
    "    plt.xlabel(\"x1\")\n",
    "    plt.ylabel(\"x2\")\n",
    "    plt.title(f\"Classification Result with k={k}\" if k is not None else \"Data Points\")\n",
    "    plt.legend()\n",
    "    plt.show()"
   ],
   "outputs": [],
   "execution_count": 281
  },
  {
   "cell_type": "code",
   "id": "6878eccc-f232-456d-a595-5f5d8d65d885",
   "metadata": {
    "ExecuteTime": {
     "end_time": "2024-11-18T17:34:19.941069Z",
     "start_time": "2024-11-18T17:34:19.926618Z"
    }
   },
   "source": [],
   "outputs": [],
   "execution_count": null
  },
  {
   "cell_type": "markdown",
   "id": "8de5c8e7-9245-4f1e-a12c-7d3d95c5d4db",
   "metadata": {},
   "source": [
    "# k-NN"
   ]
  },
  {
   "cell_type": "code",
   "id": "5d949322-6c88-472e-94f4-687151de426b",
   "metadata": {
    "ExecuteTime": {
     "end_time": "2024-11-18T17:34:19.970970Z",
     "start_time": "2024-11-18T17:34:19.958013Z"
    }
   },
   "source": [
    "# Data points\n",
    "x1_data = [4, 5, 10, 4, 3, 11, 14, 8, 10, 12]\n",
    "x2_data = [21, 19, 24, 17, 16, 25, 24, 22, 21, 21]\n",
    "classes = [0, 0, 1, 0, 0, 1, 1, 0, 1, 1]\n",
    "\n",
    "data = pd.DataFrame({\"x1\": x1_data, \"x2\": x2_data, \"class\": classes})\n",
    "data"
   ],
   "outputs": [
    {
     "data": {
      "text/plain": [
       "   x1  x2  class\n",
       "0   4  21      0\n",
       "1   5  19      0\n",
       "2  10  24      1\n",
       "3   4  17      0\n",
       "4   3  16      0\n",
       "5  11  25      1\n",
       "6  14  24      1\n",
       "7   8  22      0\n",
       "8  10  21      1\n",
       "9  12  21      1"
      ],
      "text/html": [
       "<div>\n",
       "<style scoped>\n",
       "    .dataframe tbody tr th:only-of-type {\n",
       "        vertical-align: middle;\n",
       "    }\n",
       "\n",
       "    .dataframe tbody tr th {\n",
       "        vertical-align: top;\n",
       "    }\n",
       "\n",
       "    .dataframe thead th {\n",
       "        text-align: right;\n",
       "    }\n",
       "</style>\n",
       "<table border=\"1\" class=\"dataframe\">\n",
       "  <thead>\n",
       "    <tr style=\"text-align: right;\">\n",
       "      <th></th>\n",
       "      <th>x1</th>\n",
       "      <th>x2</th>\n",
       "      <th>class</th>\n",
       "    </tr>\n",
       "  </thead>\n",
       "  <tbody>\n",
       "    <tr>\n",
       "      <th>0</th>\n",
       "      <td>4</td>\n",
       "      <td>21</td>\n",
       "      <td>0</td>\n",
       "    </tr>\n",
       "    <tr>\n",
       "      <th>1</th>\n",
       "      <td>5</td>\n",
       "      <td>19</td>\n",
       "      <td>0</td>\n",
       "    </tr>\n",
       "    <tr>\n",
       "      <th>2</th>\n",
       "      <td>10</td>\n",
       "      <td>24</td>\n",
       "      <td>1</td>\n",
       "    </tr>\n",
       "    <tr>\n",
       "      <th>3</th>\n",
       "      <td>4</td>\n",
       "      <td>17</td>\n",
       "      <td>0</td>\n",
       "    </tr>\n",
       "    <tr>\n",
       "      <th>4</th>\n",
       "      <td>3</td>\n",
       "      <td>16</td>\n",
       "      <td>0</td>\n",
       "    </tr>\n",
       "    <tr>\n",
       "      <th>5</th>\n",
       "      <td>11</td>\n",
       "      <td>25</td>\n",
       "      <td>1</td>\n",
       "    </tr>\n",
       "    <tr>\n",
       "      <th>6</th>\n",
       "      <td>14</td>\n",
       "      <td>24</td>\n",
       "      <td>1</td>\n",
       "    </tr>\n",
       "    <tr>\n",
       "      <th>7</th>\n",
       "      <td>8</td>\n",
       "      <td>22</td>\n",
       "      <td>0</td>\n",
       "    </tr>\n",
       "    <tr>\n",
       "      <th>8</th>\n",
       "      <td>10</td>\n",
       "      <td>21</td>\n",
       "      <td>1</td>\n",
       "    </tr>\n",
       "    <tr>\n",
       "      <th>9</th>\n",
       "      <td>12</td>\n",
       "      <td>21</td>\n",
       "      <td>1</td>\n",
       "    </tr>\n",
       "  </tbody>\n",
       "</table>\n",
       "</div>"
      ]
     },
     "execution_count": 282,
     "metadata": {},
     "output_type": "execute_result"
    }
   ],
   "execution_count": 282
  },
  {
   "cell_type": "code",
   "id": "7372eeba-96f1-415f-b4d8-5df50672e638",
   "metadata": {
    "ExecuteTime": {
     "end_time": "2024-11-18T17:34:20.032162Z",
     "start_time": "2024-11-18T17:34:20.017833Z"
    }
   },
   "source": [
    "# New test data point\n",
    "new_x1 = 8\n",
    "new_x2 = 21\n",
    "\n",
    "new_point = pd.DataFrame({'x1': [new_x1], 'x2': [new_x2]})\n",
    "new_point"
   ],
   "outputs": [
    {
     "data": {
      "text/plain": [
       "   x1  x2\n",
       "0   8  21"
      ],
      "text/html": [
       "<div>\n",
       "<style scoped>\n",
       "    .dataframe tbody tr th:only-of-type {\n",
       "        vertical-align: middle;\n",
       "    }\n",
       "\n",
       "    .dataframe tbody tr th {\n",
       "        vertical-align: top;\n",
       "    }\n",
       "\n",
       "    .dataframe thead th {\n",
       "        text-align: right;\n",
       "    }\n",
       "</style>\n",
       "<table border=\"1\" class=\"dataframe\">\n",
       "  <thead>\n",
       "    <tr style=\"text-align: right;\">\n",
       "      <th></th>\n",
       "      <th>x1</th>\n",
       "      <th>x2</th>\n",
       "    </tr>\n",
       "  </thead>\n",
       "  <tbody>\n",
       "    <tr>\n",
       "      <th>0</th>\n",
       "      <td>8</td>\n",
       "      <td>21</td>\n",
       "    </tr>\n",
       "  </tbody>\n",
       "</table>\n",
       "</div>"
      ]
     },
     "execution_count": 283,
     "metadata": {},
     "output_type": "execute_result"
    }
   ],
   "execution_count": 283
  },
  {
   "metadata": {
    "ExecuteTime": {
     "end_time": "2024-11-18T17:34:20.218368Z",
     "start_time": "2024-11-18T17:34:20.095223Z"
    }
   },
   "cell_type": "code",
   "source": "plot_data_knn(data, new_point)",
   "id": "e421ecbdbd934191",
   "outputs": [
    {
     "data": {
      "text/plain": [
       "<Figure size 400x300 with 1 Axes>"
      ],
      "image/png": "[encoded data removed]"
     },
     "metadata": {},
     "output_type": "display_data"
    }
   ],
   "execution_count": 284
  },
  {
   "metadata": {
    "ExecuteTime": {
     "end_time": "2024-11-18T17:34:20.372912Z",
     "start_time": "2024-11-18T17:34:20.360379Z"
    }
   },
   "cell_type": "code",
   "source": [
    "x = data[['x1', 'x2']]\n",
    "y = data['class']"
   ],
   "id": "d790ade6de4a9c37",
   "outputs": [],
   "execution_count": 285
  },
  {
   "metadata": {
    "ExecuteTime": {
     "end_time": "2024-11-18T17:34:20.465876Z",
     "start_time": "2024-11-18T17:34:20.453913Z"
    }
   },
   "cell_type": "code",
   "source": [
    "knn = KNeighborsClassifier(n_neighbors=len(x))\n",
    "knn.fit(x, y)\n",
    "\n",
    "distances, indices = knn.kneighbors(new_point)"
   ],
   "id": "c6ac350d354da3aa",
   "outputs": [],
   "execution_count": 286
  },
  {
   "metadata": {
    "ExecuteTime": {
     "end_time": "2024-11-18T17:34:20.481826Z",
     "start_time": "2024-11-18T17:34:20.472849Z"
    }
   },
   "cell_type": "code",
   "source": "distances",
   "id": "2f515a572216a0d",
   "outputs": [
    {
     "data": {
      "text/plain": [
       "array([[1.        , 2.        , 3.60555128, 3.60555128, 4.        ,\n",
       "        4.        , 5.        , 5.65685425, 6.70820393, 7.07106781]])"
      ]
     },
     "execution_count": 287,
     "metadata": {},
     "output_type": "execute_result"
    }
   ],
   "execution_count": 287
  },
  {
   "metadata": {
    "ExecuteTime": {
     "end_time": "2024-11-18T17:34:20.560103Z",
     "start_time": "2024-11-18T17:34:20.546150Z"
    }
   },
   "cell_type": "code",
   "source": "indices",
   "id": "b576cd052b1041ab",
   "outputs": [
    {
     "data": {
      "text/plain": [
       "array([[7, 8, 1, 2, 0, 9, 5, 3, 6, 4]], dtype=int64)"
      ]
     },
     "execution_count": 288,
     "metadata": {},
     "output_type": "execute_result"
    }
   ],
   "execution_count": 288
  },
  {
   "metadata": {
    "ExecuteTime": {
     "end_time": "2024-11-18T17:34:20.668348Z",
     "start_time": "2024-11-18T17:34:20.655391Z"
    }
   },
   "cell_type": "code",
   "source": [
    "print(f\"Distances from the new point to each data point:\")\n",
    "for i, distance, in zip(indices[0], distances[0]):\n",
    "    print(f\"Distance to point {i} ({data.loc[i, 'x1']}, {data.loc[i, 'x2']}): {distance: .2f}\")"
   ],
   "id": "8301f1e2fe847b7a",
   "outputs": [
    {
     "name": "stdout",
     "output_type": "stream",
     "text": [
      "Distances from the new point to each data point:\n",
      "Distance to point 7 (8, 22):  1.00\n",
      "Distance to point 8 (10, 21):  2.00\n",
      "Distance to point 1 (5, 19):  3.61\n",
      "Distance to point 2 (10, 24):  3.61\n",
      "Distance to point 0 (4, 21):  4.00\n",
      "Distance to point 9 (12, 21):  4.00\n",
      "Distance to point 5 (11, 25):  5.00\n",
      "Distance to point 3 (4, 17):  5.66\n",
      "Distance to point 6 (14, 24):  6.71\n",
      "Distance to point 4 (3, 16):  7.07\n"
     ]
    }
   ],
   "execution_count": 289
  },
  {
   "metadata": {
    "ExecuteTime": {
     "end_time": "2024-11-18T17:34:20.728175Z",
     "start_time": "2024-11-18T17:34:20.714698Z"
    }
   },
   "cell_type": "code",
   "source": [
    "k = 5\n",
    "knn = KNeighborsClassifier(n_neighbors=k)\n",
    "knn.fit(x, y)\n",
    "predicted_class = knn.predict(new_point)\n",
    "print(f\"predicted class: {predicted_class}\")"
   ],
   "id": "3dab10570def96a6",
   "outputs": [
    {
     "name": "stdout",
     "output_type": "stream",
     "text": [
      "predicted class: [1]\n"
     ]
    }
   ],
   "execution_count": 290
  },
  {
   "metadata": {
    "ExecuteTime": {
     "end_time": "2024-11-18T17:34:20.867684Z",
     "start_time": "2024-11-18T17:34:20.748541Z"
    }
   },
   "cell_type": "code",
   "source": "plot_data_knn(data, new_point, predicted_class[0], k=k)",
   "id": "9be4e39a732027ad",
   "outputs": [
    {
     "data": {
      "text/plain": [
       "<Figure size 400x300 with 1 Axes>"
      ],
      "image/png": "[encoded data removed]"
     },
     "metadata": {},
     "output_type": "display_data"
    }
   ],
   "execution_count": 291
  },
  {
   "metadata": {
    "ExecuteTime": {
     "end_time": "2024-11-18T17:34:20.928568Z",
     "start_time": "2024-11-18T17:34:20.900648Z"
    }
   },
   "cell_type": "code",
   "source": [
    "data_dmv = pd.read_excel(\"./dmv.xlsx\")\n",
    "data_dmv"
   ],
   "id": "9ebc3dbb7d8c3c19",
   "outputs": [
    {
     "data": {
      "text/plain": [
       "    DMV_Test_1  DMV_Test_2  Results\n",
       "0    34.623660   78.024693        0\n",
       "1    30.286711   43.894998        0\n",
       "2    35.847409   72.902198        0\n",
       "3    60.182599   86.308552        1\n",
       "4    79.032736   75.344376        1\n",
       "..         ...         ...      ...\n",
       "95   83.489163   48.380286        1\n",
       "96   42.261701   87.103851        1\n",
       "97   99.315009   68.775409        1\n",
       "98   55.340018   64.931938        1\n",
       "99   74.775893   89.529813        1\n",
       "\n",
       "[100 rows x 3 columns]"
      ],
      "text/html": [
       "<div>\n",
       "<style scoped>\n",
       "    .dataframe tbody tr th:only-of-type {\n",
       "        vertical-align: middle;\n",
       "    }\n",
       "\n",
       "    .dataframe tbody tr th {\n",
       "        vertical-align: top;\n",
       "    }\n",
       "\n",
       "    .dataframe thead th {\n",
       "        text-align: right;\n",
       "    }\n",
       "</style>\n",
       "<table border=\"1\" class=\"dataframe\">\n",
       "  <thead>\n",
       "    <tr style=\"text-align: right;\">\n",
       "      <th></th>\n",
       "      <th>DMV_Test_1</th>\n",
       "      <th>DMV_Test_2</th>\n",
       "      <th>Results</th>\n",
       "    </tr>\n",
       "  </thead>\n",
       "  <tbody>\n",
       "    <tr>\n",
       "      <th>0</th>\n",
       "      <td>34.623660</td>\n",
       "      <td>78.024693</td>\n",
       "      <td>0</td>\n",
       "    </tr>\n",
       "    <tr>\n",
       "      <th>1</th>\n",
       "      <td>30.286711</td>\n",
       "      <td>43.894998</td>\n",
       "      <td>0</td>\n",
       "    </tr>\n",
       "    <tr>\n",
       "      <th>2</th>\n",
       "      <td>35.847409</td>\n",
       "      <td>72.902198</td>\n",
       "      <td>0</td>\n",
       "    </tr>\n",
       "    <tr>\n",
       "      <th>3</th>\n",
       "      <td>60.182599</td>\n",
       "      <td>86.308552</td>\n",
       "      <td>1</td>\n",
       "    </tr>\n",
       "    <tr>\n",
       "      <th>4</th>\n",
       "      <td>79.032736</td>\n",
       "      <td>75.344376</td>\n",
       "      <td>1</td>\n",
       "    </tr>\n",
       "    <tr>\n",
       "      <th>...</th>\n",
       "      <td>...</td>\n",
       "      <td>...</td>\n",
       "      <td>...</td>\n",
       "    </tr>\n",
       "    <tr>\n",
       "      <th>95</th>\n",
       "      <td>83.489163</td>\n",
       "      <td>48.380286</td>\n",
       "      <td>1</td>\n",
       "    </tr>\n",
       "    <tr>\n",
       "      <th>96</th>\n",
       "      <td>42.261701</td>\n",
       "      <td>87.103851</td>\n",
       "      <td>1</td>\n",
       "    </tr>\n",
       "    <tr>\n",
       "      <th>97</th>\n",
       "      <td>99.315009</td>\n",
       "      <td>68.775409</td>\n",
       "      <td>1</td>\n",
       "    </tr>\n",
       "    <tr>\n",
       "      <th>98</th>\n",
       "      <td>55.340018</td>\n",
       "      <td>64.931938</td>\n",
       "      <td>1</td>\n",
       "    </tr>\n",
       "    <tr>\n",
       "      <th>99</th>\n",
       "      <td>74.775893</td>\n",
       "      <td>89.529813</td>\n",
       "      <td>1</td>\n",
       "    </tr>\n",
       "  </tbody>\n",
       "</table>\n",
       "<p>100 rows × 3 columns</p>\n",
       "</div>"
      ]
     },
     "execution_count": 292,
     "metadata": {},
     "output_type": "execute_result"
    }
   ],
   "execution_count": 292
  },
  {
   "metadata": {
    "ExecuteTime": {
     "end_time": "2024-11-18T17:34:21.005106Z",
     "start_time": "2024-11-18T17:34:20.994143Z"
    }
   },
   "cell_type": "code",
   "source": [
    "x_independent = data_dmv.iloc[:, [0, 1]].values\n",
    "y_independent = data_dmv.iloc[:, 2].values"
   ],
   "id": "a76b22057fccb52c",
   "outputs": [],
   "execution_count": 293
  },
  {
   "metadata": {
    "ExecuteTime": {
     "end_time": "2024-11-18T17:34:21.083081Z",
     "start_time": "2024-11-18T17:34:21.077383Z"
    }
   },
   "cell_type": "code",
   "source": "X_train, X_test, y_train, y_test = train_test_split(x_independent, y_independent, test_size=0.25)",
   "id": "494347ce9bb6ae52",
   "outputs": [],
   "execution_count": 294
  },
  {
   "metadata": {
    "ExecuteTime": {
     "end_time": "2024-11-18T17:34:21.128867Z",
     "start_time": "2024-11-18T17:34:21.115212Z"
    }
   },
   "cell_type": "code",
   "source": [
    "knn_new = KNeighborsClassifier(n_neighbors=len(X_train))\n",
    "knn_new.fit(X_train, y_train)\n",
    "y_pred = knn_new.predict(X_test)"
   ],
   "id": "8f184b446fb6bc17",
   "outputs": [],
   "execution_count": 295
  },
  {
   "metadata": {
    "ExecuteTime": {
     "end_time": "2024-11-18T17:34:21.159778Z",
     "start_time": "2024-11-18T17:34:21.145825Z"
    }
   },
   "cell_type": "code",
   "source": [
    "def print_metrics(y_test, y_pred):\n",
    "    print(f\"Confusion Matrix:\")\n",
    "    print(confusion_matrix(y_test, y_pred))\n",
    "    print(\"Accuracy: \", accuracy_score(y_test, y_pred))\n",
    "    print(\"Recall: \", recall_score(y_test, y_pred))\n",
    "    print(\"Precision: \", precision_score(y_test, y_pred))"
   ],
   "id": "79831f247099e66",
   "outputs": [],
   "execution_count": 296
  },
  {
   "metadata": {
    "ExecuteTime": {
     "end_time": "2024-11-18T17:34:21.190987Z",
     "start_time": "2024-11-18T17:34:21.176038Z"
    }
   },
   "cell_type": "code",
   "source": "print_metrics(y_test, y_pred)",
   "id": "97e4fa5b7bf50410",
   "outputs": [
    {
     "name": "stdout",
     "output_type": "stream",
     "text": [
      "Confusion Matrix:\n",
      "[[ 0 13]\n",
      " [ 0 12]]\n",
      "Accuracy:  0.48\n",
      "Recall:  1.0\n",
      "Precision:  0.48\n"
     ]
    }
   ],
   "execution_count": 297
  },
  {
   "metadata": {
    "ExecuteTime": {
     "end_time": "2024-11-18T17:34:21.283034Z",
     "start_time": "2024-11-18T17:34:21.264854Z"
    }
   },
   "cell_type": "code",
   "source": [
    "naive_bayes_model_1 = GaussianNB()\n",
    "naive_bayes_model_1.fit(X_train, y_train)\n",
    "y_pred_nv_model_1 = naive_bayes_model_1.predict(X_test)\n",
    "print_metrics(y_test, y_pred_nv_model_1)"
   ],
   "id": "1bcc0997b126847",
   "outputs": [
    {
     "name": "stdout",
     "output_type": "stream",
     "text": [
      "Confusion Matrix:\n",
      "[[11  2]\n",
      " [ 1 11]]\n",
      "Accuracy:  0.88\n",
      "Recall:  0.9166666666666666\n",
      "Precision:  0.8461538461538461\n"
     ]
    }
   ],
   "execution_count": 298
  },
  {
   "metadata": {
    "ExecuteTime": {
     "end_time": "2024-11-18T17:34:21.392311Z",
     "start_time": "2024-11-18T17:34:21.358955Z"
    }
   },
   "cell_type": "code",
   "source": [
    "naive_bayes_model_2 = BernoulliNB()\n",
    "naive_bayes_model_2.fit(X_train, y_train)\n",
    "y_pred_nv_model_2 = naive_bayes_model_2.predict(X_test)\n",
    "print_metrics(y_test, y_pred_nv_model_2)"
   ],
   "id": "ce64988ebc55f2c",
   "outputs": [
    {
     "name": "stdout",
     "output_type": "stream",
     "text": [
      "Confusion Matrix:\n",
      "[[ 0 13]\n",
      " [ 0 12]]\n",
      "Accuracy:  0.48\n",
      "Recall:  1.0\n",
      "Precision:  0.48\n"
     ]
    }
   ],
   "execution_count": 299
  }
 ],
 "metadata": {
  "kernelspec": {
   "display_name": "Python 3 (ipykernel)",
   "language": "python",
   "name": "python3"
  },
  "language_info": {
   "codemirror_mode": {
    "name": "ipython",
    "version": 3
   },
   "file_extension": ".py",
   "mimetype": "text/x-python",
   "name": "python",
   "nbconvert_exporter": "python",
   "pygments_lexer": "ipython3",
   "version": "3.11.7"
  }
 },
 "nbformat": 4,
 "nbformat_minor": 5
}
