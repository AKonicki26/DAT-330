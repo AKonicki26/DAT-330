{
 "cells": [
  {
   "metadata": {},
   "cell_type": "markdown",
   "source": [
    "# Real-Time Stop Sign Identification using Contour Detection\n",
    "### Olivia Roberts, Anne Konicki, William Grieder"
   ],
   "id": "f1cdc9e8f7de4c5c"
  },
  {
   "metadata": {},
   "cell_type": "markdown",
   "source": "**Image Preprocessing**",
   "id": "e107ef2ae486fae"
  },
  {
   "metadata": {
    "ExecuteTime": {
     "end_time": "2024-11-28T02:14:17.203103Z",
     "start_time": "2024-11-28T02:14:17.191467Z"
    }
   },
   "cell_type": "code",
   "source": [
    "#imports\n",
    "\n",
    "import cv2\n",
    "import numpy as np\n",
    "from typing import List, Any"
   ],
   "id": "2b0322042de941b",
   "outputs": [],
   "execution_count": 229
  },
  {
   "metadata": {
    "ExecuteTime": {
     "end_time": "2024-11-28T02:14:17.218632Z",
     "start_time": "2024-11-28T02:14:17.209101Z"
    }
   },
   "cell_type": "code",
   "source": [
    "def display_image_and_wait(name: str, img) -> None:\n",
    "    cv2.imshow(name, img)\n",
    "    cv2.waitKey(0)\n",
    "    cv2.destroyAllWindows()\n",
    "\n",
    "def display_images_and_wait(names: List[str], images: List[Any]) -> None:\n",
    "    assert len(images) == len(names), \"You must provide the same number of images and names\"\n",
    "\n",
    "    for name, img in zip(names, images):\n",
    "        cv2.imshow(name, img)\n",
    "    cv2.waitKey(0)\n",
    "    cv2.destroyAllWindows()"
   ],
   "id": "fbbf5ead0ef05f9f",
   "outputs": [],
   "execution_count": 230
  },
  {
   "metadata": {
    "ExecuteTime": {
     "end_time": "2024-11-28T02:14:17.295613Z",
     "start_time": "2024-11-28T02:14:17.252648Z"
    }
   },
   "cell_type": "code",
   "source": [
    "# Convert image to HSV\n",
    "bgr_img = cv2.imread('./assets/StopSign01.jpg')\n",
    "hsv_img = cv2.cvtColor(bgr_img, cv2.COLOR_BGR2HSV)\n",
    "\n",
    "#display_images_and_wait(['Original', 'HSV'], [bgr_img, hsv_img])"
   ],
   "id": "2c297310ad73c8c4",
   "outputs": [],
   "execution_count": 231
  },
  {
   "metadata": {
    "ExecuteTime": {
     "end_time": "2024-11-28T02:14:17.358225Z",
     "start_time": "2024-11-28T02:14:17.335344Z"
    }
   },
   "cell_type": "code",
   "source": [
    "# Binarize Image\n",
    "\n",
    "# Best threshold appears to be 192. More testing needed\n",
    "\n",
    "gray_img = cv2.cvtColor(hsv_img, cv2.COLOR_BGR2GRAY)\n",
    "#display_image_and_wait('Black and White', gray_img)\n",
    "\n",
    "_, bin_img = cv2.threshold(gray_img, 127, 255, cv2.THRESH_BINARY) # Store the 192 threshold version of the image for later use\n",
    "#('Binarized', bin_img)"
   ],
   "id": "324915f33daa90a",
   "outputs": [],
   "execution_count": 232
  },
  {
   "metadata": {
    "ExecuteTime": {
     "end_time": "2024-11-28T02:14:17.433945Z",
     "start_time": "2024-11-28T02:14:17.412244Z"
    }
   },
   "cell_type": "code",
   "source": [
    "# Apply Gaussian Blur\n",
    "\n",
    "### TODO: Apply a Gaussian Blur to the image after binarization.\n",
    "# Analyze the images to see if the stop sign's become more visually distinct on the image.\n",
    "# Use different threshold values as well. StopSign2 will be a useful image for this as part of the sign is obscured.\n",
    "# See if applying the blur can potentially remove the graffiti affect. it may also be useful to apply the blur to detect ellipses rather than octagons.\n",
    "# Blurring the image could make contour detection easier\n",
    "\n",
    "blur_img = cv2.blur(bin_img, (3, 3))\n",
    "#display_image_and_wait('Blurred', blur_img)"
   ],
   "id": "7a7ab754d6b3347d",
   "outputs": [],
   "execution_count": 233
  },
  {
   "metadata": {},
   "cell_type": "markdown",
   "source": "## Contour Detection",
   "id": "fd734213c259589a"
  },
  {
   "metadata": {
    "ExecuteTime": {
     "end_time": "2024-11-28T02:14:17.526536Z",
     "start_time": "2024-11-28T02:14:17.469005Z"
    }
   },
   "cell_type": "code",
   "source": [
    "# Detect Octagons\n",
    "\n",
    "# TODO: Find any octagons in the image\n",
    "\n",
    "img_copy = bgr_img.copy()\n",
    "\n",
    "contours, _ = cv2.findContours(bin_img, cv2.RETR_TREE, cv2.CHAIN_APPROX_SIMPLE)\n",
    "\n",
    "hexagon_contours = []\n",
    "for contour in contours:\n",
    "    # Approximate the contour to a polygon\n",
    "    epsilon = 0.02 * cv2.arcLength(contour, True)\n",
    "    approx = cv2.approxPolyDP(contour, epsilon, True)\n",
    "\n",
    "    # If it doesn't have 8 sides, it isn't an octagon\n",
    "    if len(approx) != 8:\n",
    "        continue\n",
    "\n",
    "    # Calculate all side lengths\n",
    "    side_lengths = [\n",
    "        np.linalg.norm(approx[i][0] - approx[(i + 1) % 8][0])\n",
    "        for i in range(8)\n",
    "    ]\n",
    "    mean_length = np.mean(side_lengths)\n",
    "\n",
    "    # Check if side lengths are approximately equal\n",
    "    # Uses 0.2 as tolerance for images at odd angles\n",
    "    if all(abs(length - mean_length) <= 0.2 * mean_length for length in side_lengths):\n",
    "        hexagon_contours.append(approx)\n",
    "\n",
    "# Uncomment lines to see raw contours being drawn\n",
    "\n",
    "#cv2.drawContours(image=img_copy, contours=hexagon_contours, contourIdx=-1, color=(0, 255, 255), thickness=2)\n",
    "#display_image_and_wait('Found Octagon Contour', img_copy)"
   ],
   "id": "9427f21a92241f7e",
   "outputs": [],
   "execution_count": 234
  },
  {
   "metadata": {
    "ExecuteTime": {
     "end_time": "2024-11-28T02:14:18.011321Z",
     "start_time": "2024-11-28T02:14:17.543456Z"
    }
   },
   "cell_type": "code",
   "source": [
    "# Bounding Box\n",
    "for hexagon in hexagon_contours:\n",
    "    rect = cv2.boundingRect(hexagon)\n",
    "    if rect[2] < 100 or rect[3] < 100: continue\n",
    "    x,y,w,h = rect\n",
    "    cv2.rectangle(img_copy,(x,y),(x+w,y+h),(0,255,0),2)\n",
    "    cv2.putText(img=img_copy,text='Stop Sign',org=(x,y-20),fontFace=0,\n",
    "                fontScale=0.8,color=(0,0,0), thickness=2)\n",
    "display_image_and_wait('Found Stop Signs', img_copy)\n",
    "\n",
    "cv2.imwrite(\"./FoundSign.png\", img_copy)"
   ],
   "id": "1dff9715d8df678e",
   "outputs": [
    {
     "data": {
      "text/plain": [
       "True"
      ]
     },
     "execution_count": 235,
     "metadata": {},
     "output_type": "execute_result"
    }
   ],
   "execution_count": 235
  },
  {
   "metadata": {},
   "cell_type": "markdown",
   "source": "# YOLO v5\n",
   "id": "e21476b4a613ffc"
  },
  {
   "metadata": {
    "ExecuteTime": {
     "end_time": "2024-11-28T02:14:18.042838Z",
     "start_time": "2024-11-28T02:14:18.037830Z"
    }
   },
   "cell_type": "code",
   "source": "",
   "id": "8c0d32e6dbef8cb8",
   "outputs": [],
   "execution_count": null
  }
 ],
 "metadata": {
  "kernelspec": {
   "display_name": "Python 3",
   "language": "python",
   "name": "python3"
  },
  "language_info": {
   "codemirror_mode": {
    "name": "ipython",
    "version": 2
   },
   "file_extension": ".py",
   "mimetype": "text/x-python",
   "name": "python",
   "nbconvert_exporter": "python",
   "pygments_lexer": "ipython2",
   "version": "2.7.6"
  }
 },
 "nbformat": 4,
 "nbformat_minor": 5
}
