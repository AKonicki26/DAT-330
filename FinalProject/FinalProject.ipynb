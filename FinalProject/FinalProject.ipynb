{
 "cells": [
  {
   "metadata": {},
   "cell_type": "markdown",
   "source": [
    "# Real-Time Stop Sign Identification using Contour Detection\n",
    "### Olivia Roberts, Anne Konicki, William Grieder"
   ],
   "id": "f1cdc9e8f7de4c5c"
  },
  {
   "metadata": {},
   "cell_type": "markdown",
   "source": "# Image Preprocessing",
   "id": "e107ef2ae486fae"
  },
  {
   "metadata": {
    "ExecuteTime": {
     "end_time": "2024-11-28T05:44:27.847926Z",
     "start_time": "2024-11-28T05:44:27.839920Z"
    }
   },
   "cell_type": "code",
   "source": [
    "#imports\n",
    "\n",
    "import cv2\n",
    "import numpy as np\n",
    "from typing import List, Any"
   ],
   "id": "2b0322042de941b",
   "outputs": [],
   "execution_count": 78
  },
  {
   "metadata": {
    "ExecuteTime": {
     "end_time": "2024-11-28T05:44:27.862917Z",
     "start_time": "2024-11-28T05:44:27.858918Z"
    }
   },
   "cell_type": "code",
   "source": [
    "def display_image_and_wait(name: str, img) -> None:\n",
    "    cv2.imshow(name, img)\n",
    "    cv2.waitKey(0)\n",
    "    cv2.destroyAllWindows()\n",
    "\n",
    "def display_images_and_wait(names: List[str], images: List[Any]) -> None:\n",
    "    assert len(images) == len(names), \"You must provide the same number of images and names\"\n",
    "\n",
    "    for name, img in zip(names, images):\n",
    "        cv2.imshow(name, img)\n",
    "    cv2.waitKey(0)\n",
    "    cv2.destroyAllWindows()"
   ],
   "id": "fbbf5ead0ef05f9f",
   "outputs": [],
   "execution_count": 79
  },
  {
   "metadata": {
    "ExecuteTime": {
     "end_time": "2024-11-28T05:44:27.909188Z",
     "start_time": "2024-11-28T05:44:27.879918Z"
    }
   },
   "cell_type": "code",
   "source": [
    "# Convert image to HSV\n",
    "img_bgr = cv2.imread('./assets/StopSign01.jpg')\n",
    "img_hsv = cv2.cvtColor(img_bgr, cv2.COLOR_BGR2HSV)\n",
    "\n",
    "#display_images_and_wait(['Original', 'HSV'], [bgr_img, hsv_img])"
   ],
   "id": "2c297310ad73c8c4",
   "outputs": [],
   "execution_count": 80
  },
  {
   "metadata": {
    "ExecuteTime": {
     "end_time": "2024-11-28T05:44:27.940148Z",
     "start_time": "2024-11-28T05:44:27.927302Z"
    }
   },
   "cell_type": "code",
   "source": [
    "# Binarize Image\n",
    "\n",
    "# Best threshold appears to be 192. More testing needed\n",
    "\n",
    "image_grayscale = cv2.cvtColor(img_hsv, cv2.COLOR_BGR2GRAY)\n",
    "#display_image_and_wait('Black and White', gray_img)\n",
    "\n",
    "_, binarized_img = cv2.threshold(image_grayscale, 127, 255, cv2.THRESH_BINARY) # Store the 192 threshold version of the image for later use\n",
    "#('Binarized', bin_img)"
   ],
   "id": "324915f33daa90a",
   "outputs": [],
   "execution_count": 81
  },
  {
   "metadata": {
    "ExecuteTime": {
     "end_time": "2024-11-28T05:44:27.970768Z",
     "start_time": "2024-11-28T05:44:27.956500Z"
    }
   },
   "cell_type": "code",
   "source": [
    "# Apply Gaussian Blur\n",
    "\n",
    "# Analyze the images to see if the stop sign's become more visually distinct on the image.\n",
    "# Use different threshold values as well. StopSign2 will be a useful image for this as part of the sign is obscured.\n",
    "# See if applying the blur can potentially remove the graffiti affect. it may also be useful to apply the blur to detect ellipses rather than octagons.\n",
    "# Blurring the image could make contour detection easier\n",
    "\n",
    "# This ended up not being needed/useful, but the ability to do it is still here\n",
    "\n",
    "img_blurred = cv2.blur(binarized_img, (3, 3))\n",
    "#display_image_and_wait('Blurred', img_blurred)"
   ],
   "id": "7a7ab754d6b3347d",
   "outputs": [],
   "execution_count": 82
  },
  {
   "metadata": {},
   "cell_type": "markdown",
   "source": "## Contour Detection",
   "id": "fd734213c259589a"
  },
  {
   "metadata": {
    "ExecuteTime": {
     "end_time": "2024-11-28T05:44:28.033183Z",
     "start_time": "2024-11-28T05:44:28.005885Z"
    }
   },
   "cell_type": "code",
   "source": [
    "# Detect Octagons\n",
    "\n",
    "copy_image = img_bgr.copy()\n",
    "\n",
    "all_contours, _ = cv2.findContours(binarized_img, cv2.RETR_TREE, cv2.CHAIN_APPROX_SIMPLE)\n",
    "\n",
    "def test_hexagon(contour: Any) -> bool:\n",
    "    # Approximate the contour to a polygon\n",
    "    epsilon = 0.03 * cv2.arcLength(contour, True)\n",
    "    approx = cv2.approxPolyDP(contour, epsilon, True)\n",
    "\n",
    "    # If it doesn't have 8 sides, it isn't an octagon\n",
    "    if len(approx) != 8:\n",
    "        return False\n",
    "\n",
    "    # Calculate all side lengths\n",
    "    side_lengths = [\n",
    "        np.linalg.norm(approx[i][0] - approx[(i + 1) % 8][0])\n",
    "        for i in range(8)\n",
    "    ]\n",
    "    mean_length = np.mean(side_lengths)\n",
    "\n",
    "    # Check if side lengths are approximately equal\n",
    "    # Uses 0.3 as tolerance for images at odd angles\n",
    "    return all(abs(length - mean_length) <= 0.35 * mean_length for length in side_lengths)\n",
    "\n",
    "\n",
    "hex_contours = [contour for contour in all_contours if test_hexagon(contour)]\n",
    "\n",
    "# Uncomment lines to see raw contours being drawn\n",
    "\n",
    "#cv2.drawContours(image=img_copy, contours=hexagon_contours, contourIdx=-1, color=(0, 255, 255), thickness=2)\n",
    "#display_image_and_wait('Found Octagon Contour', img_copy)"
   ],
   "id": "9427f21a92241f7e",
   "outputs": [],
   "execution_count": 83
  },
  {
   "metadata": {
    "ExecuteTime": {
     "end_time": "2024-11-28T05:44:28.110120Z",
     "start_time": "2024-11-28T05:44:28.065111Z"
    }
   },
   "cell_type": "code",
   "source": [
    "# Bounding Box\n",
    "for hex in hex_contours:\n",
    "    rect = cv2.boundingRect(hex)\n",
    "    if rect[2] < 100 or rect[3] < 100: continue\n",
    "    x,y,w,h = rect\n",
    "    cv2.rectangle(copy_image,(x,y),(x+w,y+h),(0,255,0),2)\n",
    "    cv2.putText(img=copy_image,text='Stop Sign',org=(x,y-20),fontFace=0,\n",
    "                fontScale=0.8,color=(0,0,0), thickness=2)\n",
    "# display_image_and_wait('Found Stop Signs', copy_image)\n",
    "\n",
    "cv2.imwrite(\"./FoundSign.png\", copy_image)"
   ],
   "id": "968270b31a8ca641",
   "outputs": [
    {
     "data": {
      "text/plain": [
       "True"
      ]
     },
     "execution_count": 84,
     "metadata": {},
     "output_type": "execute_result"
    }
   ],
   "execution_count": 84
  },
  {
   "metadata": {},
   "cell_type": "markdown",
   "source": "# Contour Detection Automated Testing",
   "id": "ac589142d9db456d"
  },
  {
   "metadata": {
    "ExecuteTime": {
     "end_time": "2024-11-28T05:44:28.126105Z",
     "start_time": "2024-11-28T05:44:28.114498Z"
    }
   },
   "cell_type": "code",
   "source": [
    "# Function below performs all steps as above as one function, rather than with seperated steps and displaying images during the step-by-step process\n",
    "\n",
    "def detect_stop_sign(img_location: str) -> bool:\n",
    "    \"\"\"\n",
    "    :param img_location: local location of the image to attempt to detect stop sign in\n",
    "    :return: True if stop sign is detected, False otherwise\n",
    "    \"\"\"\n",
    "    try:\n",
    "        bgr_img = cv2.imread(img_location)\n",
    "        gray_img = cv2.cvtColor(bgr_img, cv2.COLOR_BGR2GRAY)\n",
    "        blur_img = cv2.blur(gray_img, (3, 3))\n",
    "\n",
    "        _, bin_img = cv2.threshold(blur_img, 127, 255, cv2.THRESH_BINARY)\n",
    "\n",
    "        img_copy = bgr_img.copy()\n",
    "\n",
    "        contours, _ = cv2.findContours(bin_img, cv2.RETR_TREE, cv2.CHAIN_APPROX_SIMPLE)\n",
    "\n",
    "        hexagon_contours = [contour for contour in contours if test_hexagon(contour)]\n",
    "\n",
    "        return_value = False\n",
    "\n",
    "        # Bounding Box\n",
    "        for hexagon in hexagon_contours:\n",
    "            rect = cv2.boundingRect(hexagon)\n",
    "            if rect[2] < 100 or rect[3] < 100: continue\n",
    "            x,y,w,h = rect\n",
    "            cv2.rectangle(img_copy,(x,y),(x+w,y+h),(0,255,0),2)\n",
    "            cv2.putText(img=img_copy,text='Stop Sign',org=(x,y-20),fontFace=0,\n",
    "                        fontScale=0.8,color=(0,0,0), thickness=2)\n",
    "            # A bounding box was drawn around a supposed hexagon, therefore we are true\n",
    "            return_value = True\n",
    "\n",
    "        display_image_and_wait('Found Stop Sign', img_copy)\n",
    "\n",
    "        cv2.imwrite(f\"./assets/output/{img_location}.png\", img_copy)\n",
    "        return return_value\n",
    "    # Should this fail for whatever reason, well. We didn't find a stop sign!\n",
    "    except:\n",
    "        return None"
   ],
   "id": "8e63f24cbbd6c03e",
   "outputs": [],
   "execution_count": 85
  },
  {
   "metadata": {
    "ExecuteTime": {
     "end_time": "2024-11-28T05:44:57.998670Z",
     "start_time": "2024-11-28T05:44:28.143822Z"
    }
   },
   "cell_type": "code",
   "source": [
    "# get all test image files\n",
    "\n",
    "import glob\n",
    "import pandas as pd\n",
    "\n",
    "image_files = []\n",
    "\n",
    "for filename in glob.glob(\"./assets/test/*\"):\n",
    "    if filename.endswith(\".jpg\"):\n",
    "        image_files.append(filename)\n",
    "\n",
    "data = {\n",
    "    'image_id': [],\n",
    "    'image_path': [],\n",
    "    'stop_sign_found': [],\n",
    "}\n",
    "\n",
    "csv_file_path = './output/ContourOutput.csv'\n",
    "\n",
    "# for manually testing only the head of the data\n",
    "# image_files = image_files[:5]\n",
    "\n",
    "for index, filename in enumerate(image_files):\n",
    "    data['image_id'].append(index)\n",
    "    data['image_path'].append(filename)\n",
    "    data['stop_sign_found'].append(detect_stop_sign(filename))\n",
    "\n",
    "df = pd.DataFrame(data)\n",
    "# Output data to a CSV\n",
    "df.to_csv(csv_file_path, index=False)\n",
    "df\n"
   ],
   "id": "1dff9715d8df678e",
   "outputs": [
    {
     "data": {
      "text/plain": [
       "    image_id                                         image_path  \\\n",
       "0          0  ./assets/test\\1000_F_178925847_Y9XCgnGQsOrvGGS...   \n",
       "1          1  ./assets/test\\100_s_jpg.rf.64ea390075b5420ae40...   \n",
       "2          2  ./assets/test\\11121burnslakeVandalism_jpg.rf.4...   \n",
       "3          3  ./assets/test\\119-JPG_0000_0426_0130_0226_0240...   \n",
       "4          4  ./assets/test\\121484920_52a2152b99_z_jpg.rf.23...   \n",
       "..       ...                                                ...   \n",
       "60        60  ./assets/test\\vandalized_signs_bolinas_jpg.rf....   \n",
       "61        61  ./assets/test\\Vandalized_stop_sign_-_start_and...   \n",
       "62        62  ./assets/test\\Washington_Storm_91335-jpg-96c4c...   \n",
       "63        63  ./assets/test\\w_png.rf.68a047f139a1ccb3e93c50b...   \n",
       "64        64  ./assets/test\\y_png.rf.f365d531072a54be23e40a8...   \n",
       "\n",
       "    stop_sign_found  \n",
       "0             False  \n",
       "1             False  \n",
       "2             False  \n",
       "3              True  \n",
       "4             False  \n",
       "..              ...  \n",
       "60            False  \n",
       "61             True  \n",
       "62            False  \n",
       "63            False  \n",
       "64            False  \n",
       "\n",
       "[65 rows x 3 columns]"
      ],
      "text/html": [
       "<div>\n",
       "<style scoped>\n",
       "    .dataframe tbody tr th:only-of-type {\n",
       "        vertical-align: middle;\n",
       "    }\n",
       "\n",
       "    .dataframe tbody tr th {\n",
       "        vertical-align: top;\n",
       "    }\n",
       "\n",
       "    .dataframe thead th {\n",
       "        text-align: right;\n",
       "    }\n",
       "</style>\n",
       "<table border=\"1\" class=\"dataframe\">\n",
       "  <thead>\n",
       "    <tr style=\"text-align: right;\">\n",
       "      <th></th>\n",
       "      <th>image_id</th>\n",
       "      <th>image_path</th>\n",
       "      <th>stop_sign_found</th>\n",
       "    </tr>\n",
       "  </thead>\n",
       "  <tbody>\n",
       "    <tr>\n",
       "      <th>0</th>\n",
       "      <td>0</td>\n",
       "      <td>./assets/test\\1000_F_178925847_Y9XCgnGQsOrvGGS...</td>\n",
       "      <td>False</td>\n",
       "    </tr>\n",
       "    <tr>\n",
       "      <th>1</th>\n",
       "      <td>1</td>\n",
       "      <td>./assets/test\\100_s_jpg.rf.64ea390075b5420ae40...</td>\n",
       "      <td>False</td>\n",
       "    </tr>\n",
       "    <tr>\n",
       "      <th>2</th>\n",
       "      <td>2</td>\n",
       "      <td>./assets/test\\11121burnslakeVandalism_jpg.rf.4...</td>\n",
       "      <td>False</td>\n",
       "    </tr>\n",
       "    <tr>\n",
       "      <th>3</th>\n",
       "      <td>3</td>\n",
       "      <td>./assets/test\\119-JPG_0000_0426_0130_0226_0240...</td>\n",
       "      <td>True</td>\n",
       "    </tr>\n",
       "    <tr>\n",
       "      <th>4</th>\n",
       "      <td>4</td>\n",
       "      <td>./assets/test\\121484920_52a2152b99_z_jpg.rf.23...</td>\n",
       "      <td>False</td>\n",
       "    </tr>\n",
       "    <tr>\n",
       "      <th>...</th>\n",
       "      <td>...</td>\n",
       "      <td>...</td>\n",
       "      <td>...</td>\n",
       "    </tr>\n",
       "    <tr>\n",
       "      <th>60</th>\n",
       "      <td>60</td>\n",
       "      <td>./assets/test\\vandalized_signs_bolinas_jpg.rf....</td>\n",
       "      <td>False</td>\n",
       "    </tr>\n",
       "    <tr>\n",
       "      <th>61</th>\n",
       "      <td>61</td>\n",
       "      <td>./assets/test\\Vandalized_stop_sign_-_start_and...</td>\n",
       "      <td>True</td>\n",
       "    </tr>\n",
       "    <tr>\n",
       "      <th>62</th>\n",
       "      <td>62</td>\n",
       "      <td>./assets/test\\Washington_Storm_91335-jpg-96c4c...</td>\n",
       "      <td>False</td>\n",
       "    </tr>\n",
       "    <tr>\n",
       "      <th>63</th>\n",
       "      <td>63</td>\n",
       "      <td>./assets/test\\w_png.rf.68a047f139a1ccb3e93c50b...</td>\n",
       "      <td>False</td>\n",
       "    </tr>\n",
       "    <tr>\n",
       "      <th>64</th>\n",
       "      <td>64</td>\n",
       "      <td>./assets/test\\y_png.rf.f365d531072a54be23e40a8...</td>\n",
       "      <td>False</td>\n",
       "    </tr>\n",
       "  </tbody>\n",
       "</table>\n",
       "<p>65 rows × 3 columns</p>\n",
       "</div>"
      ]
     },
     "execution_count": 86,
     "metadata": {},
     "output_type": "execute_result"
    }
   ],
   "execution_count": 86
  },
  {
   "metadata": {},
   "cell_type": "markdown",
   "source": "# Automation analysis",
   "id": "7a569f0ddbfe9bc6"
  },
  {
   "metadata": {
    "ExecuteTime": {
     "end_time": "2024-11-28T05:44:58.137834Z",
     "start_time": "2024-11-28T05:44:58.046610Z"
    }
   },
   "cell_type": "code",
   "source": [
    "import matplotlib.pyplot as plt\n",
    "import matplotlib.colors as mcolors\n",
    "\n",
    "counts = df['stop_sign_found'].value_counts()\n",
    "counts.plot(kind='bar',\n",
    "            xlabel='Stop Sign Found?',\n",
    "            ylabel='Count',\n",
    "            color=['red', \"green\"])"
   ],
   "id": "41556d3b9c065d19",
   "outputs": [
    {
     "data": {
      "text/plain": [
       "<Axes: xlabel='Stop Sign Found?', ylabel='Count'>"
      ]
     },
     "execution_count": 87,
     "metadata": {},
     "output_type": "execute_result"
    },
    {
     "data": {
      "text/plain": [
       "<Figure size 640x480 with 1 Axes>"
      ],
      "image/png": "[encoded data removed]"
     },
     "metadata": {},
     "output_type": "display_data"
    }
   ],
   "execution_count": 87
  },
  {
   "metadata": {
    "ExecuteTime": {
     "end_time": "2024-11-28T05:44:58.184582Z",
     "start_time": "2024-11-28T05:44:58.170067Z"
    }
   },
   "cell_type": "code",
   "source": "print(counts)",
   "id": "ce66fdc5a7ce4d7a",
   "outputs": [
    {
     "name": "stdout",
     "output_type": "stream",
     "text": [
      "stop_sign_found\n",
      "False    52\n",
      "True     13\n",
      "Name: count, dtype: int64\n"
     ]
    }
   ],
   "execution_count": 88
  },
  {
   "metadata": {},
   "cell_type": "markdown",
   "source": "# YOLO v5\n",
   "id": "e21476b4a613ffc"
  },
  {
   "metadata": {
    "ExecuteTime": {
     "end_time": "2024-11-28T05:44:58.199543Z",
     "start_time": "2024-11-28T05:44:58.190536Z"
    }
   },
   "cell_type": "code",
   "source": "",
   "id": "8c0d32e6dbef8cb8",
   "outputs": [],
   "execution_count": null
  },
  {
   "metadata": {
    "ExecuteTime": {
     "end_time": "2024-11-28T05:44:58.231047Z",
     "start_time": "2024-11-28T05:44:58.218047Z"
    }
   },
   "cell_type": "code",
   "source": "",
   "id": "dfafa5e27380ec2",
   "outputs": [],
   "execution_count": null
  }
 ],
 "metadata": {
  "kernelspec": {
   "display_name": "Python 3",
   "language": "python",
   "name": "python3"
  },
  "language_info": {
   "codemirror_mode": {
    "name": "ipython",
    "version": 2
   },
   "file_extension": ".py",
   "mimetype": "text/x-python",
   "name": "python",
   "nbconvert_exporter": "python",
   "pygments_lexer": "ipython2",
   "version": "2.7.6"
  }
 },
 "nbformat": 4,
 "nbformat_minor": 5
}
