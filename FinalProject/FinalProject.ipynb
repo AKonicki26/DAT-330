{
 "cells": [
  {
   "metadata": {},
   "cell_type": "markdown",
   "source": [
    "# Real-Time Stop Sign Identification using Contour Detection\n",
    "### Olivia Roberts, Anne Konicki, William Grieder"
   ],
   "id": "f1cdc9e8f7de4c5c"
  },
  {
   "metadata": {},
   "cell_type": "markdown",
   "source": "**Image Preprocessing**",
   "id": "e107ef2ae486fae"
  },
  {
   "metadata": {
    "ExecuteTime": {
     "end_time": "2024-11-14T17:08:46.948413Z",
     "start_time": "2024-11-14T17:08:46.935447Z"
    }
   },
   "cell_type": "code",
   "source": [
    "#imports\n",
    "\n",
    "import cv2"
   ],
   "id": "2b0322042de941b",
   "outputs": [],
   "execution_count": 27
  },
  {
   "metadata": {
    "ExecuteTime": {
     "end_time": "2024-11-14T17:08:49.135966Z",
     "start_time": "2024-11-14T17:08:48.243121Z"
    }
   },
   "cell_type": "code",
   "source": [
    "# Convert image to HSV\n",
    "bgr_img = cv2.imread('./assets/StopSign02.jpg')\n",
    "hsv_img = cv2.cvtColor(bgr_img, cv2.COLOR_BGR2HSV)\n",
    "\n",
    "cv2.imshow('Original', bgr_img)\n",
    "cv2.imshow('HSV', hsv_img)\n",
    "cv2.waitKey(0)\n",
    "cv2.destroyAllWindows()"
   ],
   "id": "2c297310ad73c8c4",
   "outputs": [],
   "execution_count": 28
  },
  {
   "metadata": {
    "ExecuteTime": {
     "end_time": "2024-11-14T17:08:50.197793Z",
     "start_time": "2024-11-14T17:08:49.575887Z"
    }
   },
   "cell_type": "code",
   "source": [
    "# Binarize Image\n",
    "\n",
    "# Best threshold appears to be 192. More testing needed\n",
    "\n",
    "thresholds = [64, 128, 192]\n",
    "for thresh in thresholds:\n",
    "    _, bin_img = cv2.threshold(hsv_img, thresh, 255, cv2.THRESH_BINARY)\n",
    "\n",
    "    cv2.imshow(f'Binarized: {thresh}', bin_img)\n",
    "\n",
    "_, bin_img = cv2.threshold(hsv_img, 192, 255, cv2.THRESH_BINARY) # Store the 192 threshold version of the image for later use\n",
    "cv2.waitKey(0)\n",
    "cv2.destroyAllWindows()"
   ],
   "id": "324915f33daa90a",
   "outputs": [],
   "execution_count": 29
  },
  {
   "metadata": {
    "ExecuteTime": {
     "end_time": "2024-11-14T17:07:52.153402Z",
     "start_time": "2024-11-14T17:07:52.140440Z"
    }
   },
   "cell_type": "code",
   "source": [
    "# Apply Gaussian Blur\n",
    "\n",
    "### TODO: Apply a Gaussian Blur to the image after binarization.\n",
    "# Analyze the images to see if the stop sign's become more visually distinct on the image.\n",
    "# Use different threshold values as well. StopSign2 will be a useful image for this as part of the sign is obscured.\n",
    "# See if applying the blur can potentially remove the graffiti affect. it may also be useful to apply the blur to detect ellipses rather than octagons.\n",
    "# Blurring the image could make contour detection easier\n",
    "\n"
   ],
   "id": "7a7ab754d6b3347d",
   "outputs": [],
   "execution_count": 26
  },
  {
   "metadata": {},
   "cell_type": "markdown",
   "source": "## Contour Detection",
   "id": "fd734213c259589a"
  },
  {
   "metadata": {},
   "cell_type": "code",
   "outputs": [],
   "execution_count": null,
   "source": [
    "# Ellipse/Octagonal contour detection\n",
    "\n",
    "# TODO: Discover an octagonal/elliptical contour in the image"
   ],
   "id": "87ce8fd016b0690d"
  },
  {
   "metadata": {},
   "cell_type": "code",
   "outputs": [],
   "execution_count": null,
   "source": [
    "# Bounding Box\n",
    "\n",
    "# TODO: Draw a bounding box around the specific region with the discovered shape should it be found"
   ],
   "id": "9427f21a92241f7e"
  }
 ],
 "metadata": {
  "kernelspec": {
   "display_name": "Python 3",
   "language": "python",
   "name": "python3"
  },
  "language_info": {
   "codemirror_mode": {
    "name": "ipython",
    "version": 2
   },
   "file_extension": ".py",
   "mimetype": "text/x-python",
   "name": "python",
   "nbconvert_exporter": "python",
   "pygments_lexer": "ipython2",
   "version": "2.7.6"
  }
 },
 "nbformat": 4,
 "nbformat_minor": 5
}
