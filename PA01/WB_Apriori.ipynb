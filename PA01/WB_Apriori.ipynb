{
 "cells": [
  {
   "cell_type": "code",
   "execution_count": 25,
   "id": "ebb93c02-3caa-46c8-96d1-ad6b9341d75e",
   "metadata": {
    "ExecuteTime": {
     "end_time": "2024-10-02T21:35:50.900537600Z",
     "start_time": "2024-10-02T21:35:50.837406700Z"
    }
   },
   "outputs": [],
   "source": [
    "# pip install mlxtend"
   ]
  },
  {
   "cell_type": "code",
   "execution_count": 26,
   "id": "2ff7c62d-e849-400f-8fa0-2281731cdc13",
   "metadata": {
    "ExecuteTime": {
     "end_time": "2024-10-02T21:35:50.901578100Z",
     "start_time": "2024-10-02T21:35:50.851344900Z"
    }
   },
   "outputs": [],
   "source": [
    "import pandas as pd\n",
    "import random\n",
    "from itertools import combinations\n",
    "from mlxtend.frequent_patterns import apriori, association_rules\n",
    "import warnings\n",
    "warnings.filterwarnings(\"ignore\")"
   ]
  },
  {
   "cell_type": "code",
   "execution_count": 27,
   "id": "2148dfeb-c138-4f16-a3f9-cac53e65cc7b",
   "metadata": {
    "ExecuteTime": {
     "end_time": "2024-10-02T21:35:50.929488100Z",
     "start_time": "2024-10-02T21:35:50.866880200Z"
    }
   },
   "outputs": [],
   "source": [
    "frequent_itemset_2 = [{'milk', 'bread'}, {'bread', 'butter'}, {'milk', 'egg'}]"
   ]
  },
  {
   "cell_type": "code",
   "execution_count": 28,
   "id": "0b823053-b1bd-43a4-92f5-2a88c9cede63",
   "metadata": {
    "ExecuteTime": {
     "end_time": "2024-10-02T21:35:50.931570300Z",
     "start_time": "2024-10-02T21:35:50.905922400Z"
    }
   },
   "outputs": [
    {
     "name": "stdout",
     "output_type": "stream",
     "text": [
      "Flattened 2 frequent itemset ['bread', 'milk', 'bread', 'butter', 'egg', 'milk']\n"
     ]
    }
   ],
   "source": [
    "# Generate C3\n",
    "\n",
    "flatten_freq_itemst = []\n",
    "\n",
    "for subset in frequent_itemset_2:\n",
    "    for i in subset:\n",
    "        flatten_freq_itemst.append(i)\n",
    "        \n",
    "print('Flattened 2 frequent itemset', flatten_freq_itemst)"
   ]
  },
  {
   "cell_type": "code",
   "execution_count": 29,
   "id": "357a565b-2656-4f1b-9f25-c79e1738b1f3",
   "metadata": {
    "ExecuteTime": {
     "end_time": "2024-10-02T21:35:50.962106400Z",
     "start_time": "2024-10-02T21:35:50.934694900Z"
    }
   },
   "outputs": [
    {
     "name": "stdout",
     "output_type": "stream",
     "text": [
      "unique items in 2 frequen itemset:  {'egg', 'milk', 'bread', 'butter'}\n"
     ]
    }
   ],
   "source": [
    "unique_items = set(flatten_freq_itemst)\n",
    "print(\"unique items in 2 frequen itemset: \", unique_items)"
   ]
  },
  {
   "cell_type": "code",
   "execution_count": 30,
   "id": "94d0cd2f-651a-43a8-9006-819e9e27b1f9",
   "metadata": {
    "ExecuteTime": {
     "end_time": "2024-10-02T21:35:50.990909100Z",
     "start_time": "2024-10-02T21:35:50.965118200Z"
    }
   },
   "outputs": [
    {
     "name": "stdout",
     "output_type": "stream",
     "text": [
      "C3:  [('egg', 'milk', 'bread'), ('egg', 'milk', 'butter'), ('egg', 'bread', 'butter'), ('milk', 'bread', 'butter')]\n"
     ]
    }
   ],
   "source": [
    "frequent_itemset_3 = list(combinations(unique_items, 3))\n",
    "print(\"C3: \", frequent_itemset_3)"
   ]
  },
  {
   "cell_type": "code",
   "execution_count": 31,
   "id": "fc3f5e43-b79b-462e-8655-a1b2fc830f7e",
   "metadata": {
    "ExecuteTime": {
     "end_time": "2024-10-02T21:35:51.025992200Z",
     "start_time": "2024-10-02T21:35:50.996343500Z"
    }
   },
   "outputs": [
    {
     "name": "stdout",
     "output_type": "stream",
     "text": [
      "C3: [('egg', 'milk', 'bread'), ('egg', 'milk', 'butter'), ('egg', 'bread', 'butter'), ('milk', 'bread', 'butter')]\n",
      "True\n"
     ]
    }
   ],
   "source": [
    "candidates_3 = list(combinations(set(i for subset in frequent_itemset_2 for i in subset), 3))\n",
    "print(\"C3:\", candidates_3)\n",
    "\n",
    "print(candidates_3 == frequent_itemset_3)"
   ]
  },
  {
   "cell_type": "code",
   "outputs": [
    {
     "data": {
      "text/plain": "   Transaction                               Items\n0            1                       item_D,item_F\n1            2         item_D,item_C,item_A,item_E\n2            3         item_D,item_F,item_C,item_A\n3            4         item_A,item_F,item_C,item_B\n4            5  item_B,item_A,item_F,item_D,item_E\n5            6                              item_E\n6            7  item_D,item_C,item_A,item_F,item_B\n7            8  item_E,item_A,item_F,item_D,item_C\n8            9  item_E,item_C,item_F,item_A,item_D\n9           10                       item_E,item_C",
      "text/html": "<div>\n<style scoped>\n    .dataframe tbody tr th:only-of-type {\n        vertical-align: middle;\n    }\n\n    .dataframe tbody tr th {\n        vertical-align: top;\n    }\n\n    .dataframe thead th {\n        text-align: right;\n    }\n</style>\n<table border=\"1\" class=\"dataframe\">\n  <thead>\n    <tr style=\"text-align: right;\">\n      <th></th>\n      <th>Transaction</th>\n      <th>Items</th>\n    </tr>\n  </thead>\n  <tbody>\n    <tr>\n      <th>0</th>\n      <td>1</td>\n      <td>item_D,item_F</td>\n    </tr>\n    <tr>\n      <th>1</th>\n      <td>2</td>\n      <td>item_D,item_C,item_A,item_E</td>\n    </tr>\n    <tr>\n      <th>2</th>\n      <td>3</td>\n      <td>item_D,item_F,item_C,item_A</td>\n    </tr>\n    <tr>\n      <th>3</th>\n      <td>4</td>\n      <td>item_A,item_F,item_C,item_B</td>\n    </tr>\n    <tr>\n      <th>4</th>\n      <td>5</td>\n      <td>item_B,item_A,item_F,item_D,item_E</td>\n    </tr>\n    <tr>\n      <th>5</th>\n      <td>6</td>\n      <td>item_E</td>\n    </tr>\n    <tr>\n      <th>6</th>\n      <td>7</td>\n      <td>item_D,item_C,item_A,item_F,item_B</td>\n    </tr>\n    <tr>\n      <th>7</th>\n      <td>8</td>\n      <td>item_E,item_A,item_F,item_D,item_C</td>\n    </tr>\n    <tr>\n      <th>8</th>\n      <td>9</td>\n      <td>item_E,item_C,item_F,item_A,item_D</td>\n    </tr>\n    <tr>\n      <th>9</th>\n      <td>10</td>\n      <td>item_E,item_C</td>\n    </tr>\n  </tbody>\n</table>\n</div>"
     },
     "execution_count": 32,
     "metadata": {},
     "output_type": "execute_result"
    }
   ],
   "source": [
    "transaction_data = pd.read_excel(\"./micro_data_transactions_comma_separated.xlsx\")\n",
    "transaction_data"
   ],
   "metadata": {
    "collapsed": false,
    "ExecuteTime": {
     "end_time": "2024-10-02T21:35:51.088223700Z",
     "start_time": "2024-10-02T21:35:51.031027400Z"
    }
   },
   "id": "bda453a2333499d0",
   "execution_count": 32
  },
  {
   "cell_type": "code",
   "outputs": [
    {
     "data": {
      "text/plain": "0                            [item_D, item_F]\n1            [item_D, item_C, item_A, item_E]\n2            [item_D, item_F, item_C, item_A]\n3            [item_A, item_F, item_C, item_B]\n4    [item_B, item_A, item_F, item_D, item_E]\n5                                    [item_E]\n6    [item_D, item_C, item_A, item_F, item_B]\n7    [item_E, item_A, item_F, item_D, item_C]\n8    [item_E, item_C, item_F, item_A, item_D]\n9                            [item_E, item_C]\nName: Items, dtype: object"
     },
     "execution_count": 33,
     "metadata": {},
     "output_type": "execute_result"
    }
   ],
   "source": [
    "# split the csv into a list\n",
    "transaction_data['Items'] = transaction_data['Items'].apply(lambda x: x.split(','))\n",
    "transaction_data['Items']"
   ],
   "metadata": {
    "collapsed": false,
    "ExecuteTime": {
     "end_time": "2024-10-02T21:35:51.144992800Z",
     "start_time": "2024-10-02T21:35:51.082223800Z"
    }
   },
   "id": "2c768edcf5bd085f",
   "execution_count": 33
  },
  {
   "cell_type": "code",
   "outputs": [
    {
     "data": {
      "text/plain": "['item_A', 'item_B', 'item_C', 'item_D', 'item_E', 'item_F']"
     },
     "execution_count": 34,
     "metadata": {},
     "output_type": "execute_result"
    }
   ],
   "source": [
    "# get the list of unique items in the entire list\n",
    "all_items = sorted(set(item for subset in transaction_data['Items'] for item in subset))\n",
    "all_items"
   ],
   "metadata": {
    "collapsed": false,
    "ExecuteTime": {
     "end_time": "2024-10-02T21:35:51.181209300Z",
     "start_time": "2024-10-02T21:35:51.102180500Z"
    }
   },
   "id": "1fba4affffa74b2a",
   "execution_count": 34
  },
  {
   "cell_type": "code",
   "outputs": [
    {
     "data": {
      "text/plain": "             item_A  item_B  item_C  item_D  item_E  item_F\nTransaction                                                \n1                 0       0       0       0       0       0\n2                 0       0       0       0       0       0\n3                 0       0       0       0       0       0\n4                 0       0       0       0       0       0\n5                 0       0       0       0       0       0\n6                 0       0       0       0       0       0\n7                 0       0       0       0       0       0\n8                 0       0       0       0       0       0\n9                 0       0       0       0       0       0\n10                0       0       0       0       0       0",
      "text/html": "<div>\n<style scoped>\n    .dataframe tbody tr th:only-of-type {\n        vertical-align: middle;\n    }\n\n    .dataframe tbody tr th {\n        vertical-align: top;\n    }\n\n    .dataframe thead th {\n        text-align: right;\n    }\n</style>\n<table border=\"1\" class=\"dataframe\">\n  <thead>\n    <tr style=\"text-align: right;\">\n      <th></th>\n      <th>item_A</th>\n      <th>item_B</th>\n      <th>item_C</th>\n      <th>item_D</th>\n      <th>item_E</th>\n      <th>item_F</th>\n    </tr>\n    <tr>\n      <th>Transaction</th>\n      <th></th>\n      <th></th>\n      <th></th>\n      <th></th>\n      <th></th>\n      <th></th>\n    </tr>\n  </thead>\n  <tbody>\n    <tr>\n      <th>1</th>\n      <td>0</td>\n      <td>0</td>\n      <td>0</td>\n      <td>0</td>\n      <td>0</td>\n      <td>0</td>\n    </tr>\n    <tr>\n      <th>2</th>\n      <td>0</td>\n      <td>0</td>\n      <td>0</td>\n      <td>0</td>\n      <td>0</td>\n      <td>0</td>\n    </tr>\n    <tr>\n      <th>3</th>\n      <td>0</td>\n      <td>0</td>\n      <td>0</td>\n      <td>0</td>\n      <td>0</td>\n      <td>0</td>\n    </tr>\n    <tr>\n      <th>4</th>\n      <td>0</td>\n      <td>0</td>\n      <td>0</td>\n      <td>0</td>\n      <td>0</td>\n      <td>0</td>\n    </tr>\n    <tr>\n      <th>5</th>\n      <td>0</td>\n      <td>0</td>\n      <td>0</td>\n      <td>0</td>\n      <td>0</td>\n      <td>0</td>\n    </tr>\n    <tr>\n      <th>6</th>\n      <td>0</td>\n      <td>0</td>\n      <td>0</td>\n      <td>0</td>\n      <td>0</td>\n      <td>0</td>\n    </tr>\n    <tr>\n      <th>7</th>\n      <td>0</td>\n      <td>0</td>\n      <td>0</td>\n      <td>0</td>\n      <td>0</td>\n      <td>0</td>\n    </tr>\n    <tr>\n      <th>8</th>\n      <td>0</td>\n      <td>0</td>\n      <td>0</td>\n      <td>0</td>\n      <td>0</td>\n      <td>0</td>\n    </tr>\n    <tr>\n      <th>9</th>\n      <td>0</td>\n      <td>0</td>\n      <td>0</td>\n      <td>0</td>\n      <td>0</td>\n      <td>0</td>\n    </tr>\n    <tr>\n      <th>10</th>\n      <td>0</td>\n      <td>0</td>\n      <td>0</td>\n      <td>0</td>\n      <td>0</td>\n      <td>0</td>\n    </tr>\n  </tbody>\n</table>\n</div>"
     },
     "execution_count": 35,
     "metadata": {},
     "output_type": "execute_result"
    }
   ],
   "source": [
    "# creating a DataFrame for one hot encoding with all 0s\n",
    "one_hot_encoded_data = pd.DataFrame(0, index = transaction_data['Transaction'], columns=all_items)\n",
    "one_hot_encoded_data"
   ],
   "metadata": {
    "collapsed": false,
    "ExecuteTime": {
     "end_time": "2024-10-02T21:35:51.182519700Z",
     "start_time": "2024-10-02T21:35:51.119488500Z"
    }
   },
   "id": "a042e3a0b3af1df1",
   "execution_count": 35
  },
  {
   "cell_type": "code",
   "outputs": [
    {
     "data": {
      "text/plain": "             item_A  item_B  item_C  item_D  item_E  item_F\nTransaction                                                \n1                 0       0       0       1       0       1\n2                 1       0       1       1       1       0\n3                 1       0       1       1       0       1\n4                 1       1       1       0       0       1\n5                 1       1       0       1       1       1\n6                 0       0       0       0       1       0\n7                 1       1       1       1       0       1\n8                 1       0       1       1       1       1\n9                 1       0       1       1       1       1\n10                0       0       1       0       1       0",
      "text/html": "<div>\n<style scoped>\n    .dataframe tbody tr th:only-of-type {\n        vertical-align: middle;\n    }\n\n    .dataframe tbody tr th {\n        vertical-align: top;\n    }\n\n    .dataframe thead th {\n        text-align: right;\n    }\n</style>\n<table border=\"1\" class=\"dataframe\">\n  <thead>\n    <tr style=\"text-align: right;\">\n      <th></th>\n      <th>item_A</th>\n      <th>item_B</th>\n      <th>item_C</th>\n      <th>item_D</th>\n      <th>item_E</th>\n      <th>item_F</th>\n    </tr>\n    <tr>\n      <th>Transaction</th>\n      <th></th>\n      <th></th>\n      <th></th>\n      <th></th>\n      <th></th>\n      <th></th>\n    </tr>\n  </thead>\n  <tbody>\n    <tr>\n      <th>1</th>\n      <td>0</td>\n      <td>0</td>\n      <td>0</td>\n      <td>1</td>\n      <td>0</td>\n      <td>1</td>\n    </tr>\n    <tr>\n      <th>2</th>\n      <td>1</td>\n      <td>0</td>\n      <td>1</td>\n      <td>1</td>\n      <td>1</td>\n      <td>0</td>\n    </tr>\n    <tr>\n      <th>3</th>\n      <td>1</td>\n      <td>0</td>\n      <td>1</td>\n      <td>1</td>\n      <td>0</td>\n      <td>1</td>\n    </tr>\n    <tr>\n      <th>4</th>\n      <td>1</td>\n      <td>1</td>\n      <td>1</td>\n      <td>0</td>\n      <td>0</td>\n      <td>1</td>\n    </tr>\n    <tr>\n      <th>5</th>\n      <td>1</td>\n      <td>1</td>\n      <td>0</td>\n      <td>1</td>\n      <td>1</td>\n      <td>1</td>\n    </tr>\n    <tr>\n      <th>6</th>\n      <td>0</td>\n      <td>0</td>\n      <td>0</td>\n      <td>0</td>\n      <td>1</td>\n      <td>0</td>\n    </tr>\n    <tr>\n      <th>7</th>\n      <td>1</td>\n      <td>1</td>\n      <td>1</td>\n      <td>1</td>\n      <td>0</td>\n      <td>1</td>\n    </tr>\n    <tr>\n      <th>8</th>\n      <td>1</td>\n      <td>0</td>\n      <td>1</td>\n      <td>1</td>\n      <td>1</td>\n      <td>1</td>\n    </tr>\n    <tr>\n      <th>9</th>\n      <td>1</td>\n      <td>0</td>\n      <td>1</td>\n      <td>1</td>\n      <td>1</td>\n      <td>1</td>\n    </tr>\n    <tr>\n      <th>10</th>\n      <td>0</td>\n      <td>0</td>\n      <td>1</td>\n      <td>0</td>\n      <td>1</td>\n      <td>0</td>\n    </tr>\n  </tbody>\n</table>\n</div>"
     },
     "execution_count": 36,
     "metadata": {},
     "output_type": "execute_result"
    }
   ],
   "source": [
    "for index, row in transaction_data.iterrows():\n",
    "    for item in row['Items']:\n",
    "        one_hot_encoded_data.at[row['Transaction'], item] = 1\n",
    "\n",
    "one_hot_encoded_data"
   ],
   "metadata": {
    "collapsed": false,
    "ExecuteTime": {
     "end_time": "2024-10-02T21:35:51.283812600Z",
     "start_time": "2024-10-02T21:35:51.154694600Z"
    }
   },
   "id": "2a1c0c9e8b04a198",
   "execution_count": 36
  },
  {
   "cell_type": "code",
   "outputs": [
    {
     "name": "stdout",
     "output_type": "stream",
     "text": [
      "(Index(['item_A', 'item_B', 'item_C', 'item_D', 'item_E', 'item_F'], dtype='object'),)\n"
     ]
    },
    {
     "ename": "TypeError",
     "evalue": "unhashable type: 'Index'",
     "output_type": "error",
     "traceback": [
      "\u001B[1;31m---------------------------------------------------------------------------\u001B[0m",
      "\u001B[1;31mTypeError\u001B[0m                                 Traceback (most recent call last)",
      "Cell \u001B[1;32mIn[37], line 91\u001B[0m\n\u001B[0;32m     88\u001B[0m         k \u001B[38;5;241m+\u001B[39m\u001B[38;5;241m=\u001B[39m \u001B[38;5;241m1\u001B[39m\n\u001B[0;32m     90\u001B[0m \u001B[38;5;66;03m# Call the apriori_incremental function to run the Apriori algorithm and find frequent itemsets\u001B[39;00m\n\u001B[1;32m---> 91\u001B[0m \u001B[43mapriori_incremental\u001B[49m\u001B[43m(\u001B[49m\u001B[43mdata\u001B[49m\u001B[43m,\u001B[49m\u001B[43m \u001B[49m\u001B[43mmin_sup_count\u001B[49m\u001B[43m)\u001B[49m\n",
      "Cell \u001B[1;32mIn[37], line 59\u001B[0m, in \u001B[0;36mapriori_incremental\u001B[1;34m(data, min_sup_count)\u001B[0m\n\u001B[0;32m     56\u001B[0m \u001B[38;5;28;01mfor\u001B[39;00m itemset \u001B[38;5;129;01min\u001B[39;00m candidates:\n\u001B[0;32m     57\u001B[0m     \u001B[38;5;66;03m# Sort and convert the itemset to a tuple to ensure consistent ordering and to avoid duplicates\u001B[39;00m\n\u001B[0;32m     58\u001B[0m     \u001B[38;5;28mprint\u001B[39m(itemset)\n\u001B[1;32m---> 59\u001B[0m     itemset \u001B[38;5;241m=\u001B[39m \u001B[38;5;28mtuple\u001B[39m(\u001B[38;5;28msorted\u001B[39m(\u001B[38;5;28;43mset\u001B[39;49m\u001B[43m(\u001B[49m\u001B[43mitemset\u001B[49m\u001B[43m)\u001B[49m))\n\u001B[0;32m     60\u001B[0m     \u001B[38;5;66;03m# Get the support count for the current itemset by calling the get_support_count function\u001B[39;00m\n\u001B[0;32m     61\u001B[0m     support_count \u001B[38;5;241m=\u001B[39m get_support_count(data, itemset)\n",
      "\u001B[1;31mTypeError\u001B[0m: unhashable type: 'Index'"
     ]
    }
   ],
   "source": [
    "# Assign the one-hot encoded DataFrame (where each column represents an item and each row a transaction) to df\n",
    "data = one_hot_encoded_data\n",
    "\n",
    "# Set the minimum support count threshold. In this case, an itemset must appear in at least 2 transactions to be considered frequent\n",
    "min_sup_count = 2\n",
    "\n",
    "def get_support_count(data, itemset):\n",
    "    \"\"\" \n",
    "    Function to calculate the support count of a given itemset (number of transactions in which the itemset appears).\n",
    "    \n",
    "    Parameters:\n",
    "    df: The DataFrame where each row represents a transaction and each column represents an item (1 if present, 0 if absent).\n",
    "    itemset: A tuple of items to check support for.\n",
    "    \n",
    "    Returns:\n",
    "    The support count of the given itemset (how many transactions contain all items in the itemset).\n",
    "    \"\"\"\n",
    "    # Create a boolean mask that checks if all items in the itemset have a value of 1 (present) in each transaction\n",
    "    mask = data[list(itemset).all(axis = 1)]\n",
    "    # Sum the mask (True = 1, False = 0) to count how many transactions contain the itemset\n",
    "    return mask.sum()\n",
    "\n",
    "def apriori_incremental(data, min_sup_count):\n",
    "    \"\"\" \n",
    "    Function to generate frequent itemsets using an incremental approach (the Apriori algorithm).\n",
    "    \n",
    "    Parameters:\n",
    "    df: The DataFrame where each row represents a transaction, and each column represents an item (1 if present, 0 if absent).\n",
    "    min_sup_count: The minimum support count required for an itemset to be considered frequent.\n",
    "    \n",
    "    This function generates and displays all frequent itemsets incrementally, starting with single items and then moving to pairs, triples, etc.\n",
    "    \"\"\"\n",
    "    # Extract the column names from the DataFrame (each column represents an item)\n",
    "    items = data.columns\n",
    "    # Initialize k to represent the size of the itemsets (starting with k=1 for single items)\n",
    "    k = 1\n",
    "    # Initialize an empty list to store frequent itemsets at each level\n",
    "    frequent_itemsets = []\n",
    "\n",
    "    # Loop indefinitely until no more frequent itemsets are found\n",
    "    while True:\n",
    "        if k == 1:\n",
    "            # For k = 1, generate 1-frequent itemsets, which are just individual items\n",
    "            candidates = [(items,) for item in items]\n",
    "        else:\n",
    "            # For k > 1, generate k-frequent itemsets by combining the items from the previous level\n",
    "            # It does this by combining all previous frequent itemsets (flattening them and taking combinations of k items)\n",
    "            candidates = list(combinations(set(i for subset in frequent_itemsets for i in subset), k))\n",
    "            \n",
    "        # Initialize lists to store all itemsets and their support counts for this level\n",
    "        all_itemsets = []\n",
    "        itemset_support = []\n",
    "        \n",
    "        \n",
    "        # Loop through each candidate itemset and calculate its support count\n",
    "        for itemset in candidates:\n",
    "            # Sort and convert the itemset to a tuple to ensure consistent ordering and to avoid duplicates\n",
    "            print(itemset)\n",
    "            itemset = tuple(sorted(set(itemset)))\n",
    "            # Get the support count for the current itemset by calling the get_support_count function\n",
    "            support_count = get_support_count(data, itemset)\n",
    "            # Store the itemset along with its support count\n",
    "            all_itemsets.append((itemset, support_count))\n",
    "            \n",
    "\n",
    "        # Display all k-frequent itemsets before filtering by the minimum support count\n",
    "        print(f\"\\n{k}-frequent itemsets (before filtering by min_sup_count):\")\n",
    "        for itemset, support_count in all_itemsets:\n",
    "            print(f\"Itemset: {itemset}, Support Count: {support_count}\")\n",
    "        \n",
    "\n",
    "        # Filter the itemsets, keeping only those that meet or exceed the minimum support count\n",
    "        \n",
    "        valid_itemsets = [(itemset, support_count) for itemset, support_count in all_itemsets if support_count >= min_sup_count]\n",
    "        \n",
    "        # If there are no valid itemsets left (none meet the support threshold), break out of the loop\n",
    "        if not valid_itemsets:\n",
    "            break\n",
    "\n",
    "        # Display the filtered frequent itemsets and their support counts\n",
    "        print(f\"\\n{k}-frequent itemsets (after filtering by min_sup_count):\")\n",
    "        for itemset, support_count in valid_itemsets:\n",
    "            print(f\"Itemset: {itemset}, Support Count: {support_count}\")\n",
    "        \n",
    "        # Update the frequent itemsets list with the valid itemsets for the next iteration\n",
    "        frequent_itemsets = [itemset for itemset, support_count in valid_itemsets]\n",
    "        # Increment k to move to the next level of itemsets (e.g., from pairs to triples)\n",
    "        k += 1\n",
    "\n",
    "# Call the apriori_incremental function to run the Apriori algorithm and find frequent itemsets\n",
    "apriori_incremental(data, min_sup_count)\n"
   ],
   "metadata": {
    "collapsed": false,
    "ExecuteTime": {
     "end_time": "2024-10-02T21:35:51.445380200Z",
     "start_time": "2024-10-02T21:35:51.251376400Z"
    }
   },
   "id": "cc7b7e0d-cd68-4022-97e9-a7d42475c842",
   "execution_count": 37
  },
  {
   "cell_type": "code",
   "execution_count": 37,
   "id": "6b6807f5-55ca-4686-a6db-6eefb71a5c6e",
   "metadata": {
    "ExecuteTime": {
     "end_time": "2024-10-02T21:35:51.528177600Z",
     "start_time": "2024-10-02T21:35:51.323120700Z"
    }
   },
   "outputs": [],
   "source": []
  },
  {
   "cell_type": "code",
   "execution_count": 37,
   "id": "be2a686f-d31d-48fb-8c4a-9b02048e3367",
   "metadata": {
    "ExecuteTime": {
     "end_time": "2024-10-02T21:35:51.731624200Z",
     "start_time": "2024-10-02T21:35:51.500827100Z"
    }
   },
   "outputs": [],
   "source": []
  },
  {
   "cell_type": "code",
   "execution_count": 37,
   "id": "4c1cf758-0843-4289-b575-56be9351a5e2",
   "metadata": {
    "ExecuteTime": {
     "end_time": "2024-10-02T21:35:51.759404300Z",
     "start_time": "2024-10-02T21:35:51.645790800Z"
    }
   },
   "outputs": [],
   "source": []
  },
  {
   "cell_type": "code",
   "execution_count": 37,
   "id": "140ac627-fea0-4129-ba06-9d262493e1dd",
   "metadata": {
    "ExecuteTime": {
     "end_time": "2024-10-02T21:35:51.817858500Z",
     "start_time": "2024-10-02T21:35:51.763403900Z"
    }
   },
   "outputs": [],
   "source": []
  },
  {
   "cell_type": "code",
   "execution_count": 37,
   "id": "0e3dae3f-f9ed-4daa-95ed-c9174b1b4700",
   "metadata": {
    "ExecuteTime": {
     "end_time": "2024-10-02T21:35:51.891428100Z",
     "start_time": "2024-10-02T21:35:51.822600200Z"
    }
   },
   "outputs": [],
   "source": []
  },
  {
   "cell_type": "code",
   "execution_count": 37,
   "id": "640772c2-76ba-4192-93b3-ff2bb381e50b",
   "metadata": {
    "ExecuteTime": {
     "end_time": "2024-10-02T21:35:51.926503700Z",
     "start_time": "2024-10-02T21:35:51.865185200Z"
    }
   },
   "outputs": [],
   "source": []
  },
  {
   "cell_type": "code",
   "execution_count": 37,
   "id": "c042bbab-efd5-49d9-8543-cc392efb2954",
   "metadata": {
    "ExecuteTime": {
     "end_time": "2024-10-02T21:35:51.952437Z",
     "start_time": "2024-10-02T21:35:51.931024800Z"
    }
   },
   "outputs": [],
   "source": []
  },
  {
   "cell_type": "code",
   "execution_count": 37,
   "id": "008eab05-bc32-4a33-92f2-cc2521817241",
   "metadata": {
    "ExecuteTime": {
     "end_time": "2024-10-02T21:35:51.989945900Z",
     "start_time": "2024-10-02T21:35:51.955454200Z"
    }
   },
   "outputs": [],
   "source": []
  },
  {
   "cell_type": "code",
   "execution_count": 37,
   "id": "e8d5f679-5774-4b76-a228-0154416a98d4",
   "metadata": {
    "ExecuteTime": {
     "end_time": "2024-10-02T21:35:52.020106400Z",
     "start_time": "2024-10-02T21:35:51.972551600Z"
    }
   },
   "outputs": [],
   "source": []
  },
  {
   "cell_type": "code",
   "execution_count": 37,
   "id": "8d31b64d-db59-4dea-93d3-b5b3b56fa02f",
   "metadata": {
    "ExecuteTime": {
     "end_time": "2024-10-02T21:35:52.021387700Z",
     "start_time": "2024-10-02T21:35:51.988941100Z"
    }
   },
   "outputs": [],
   "source": []
  }
 ],
 "metadata": {
  "kernelspec": {
   "display_name": "Python 3 (ipykernel)",
   "language": "python",
   "name": "python3"
  },
  "language_info": {
   "codemirror_mode": {
    "name": "ipython",
    "version": 3
   },
   "file_extension": ".py",
   "mimetype": "text/x-python",
   "name": "python",
   "nbconvert_exporter": "python",
   "pygments_lexer": "ipython3",
   "version": "3.11.7"
  }
 },
 "nbformat": 4,
 "nbformat_minor": 5
}
